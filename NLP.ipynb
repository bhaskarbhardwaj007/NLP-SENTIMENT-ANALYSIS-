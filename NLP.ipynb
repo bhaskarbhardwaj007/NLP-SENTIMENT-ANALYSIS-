{
  "nbformat": 4,
  "nbformat_minor": 0,
  "metadata": {
    "colab": {
      "name": "NLP.ipynb",
      "provenance": []
    },
    "kernelspec": {
      "name": "python3",
      "display_name": "Python 3"
    }
  },
  "cells": [
    {
      "cell_type": "code",
      "metadata": {
        "id": "TchwswRrdh69",
        "colab_type": "code",
        "colab": {}
      },
      "source": [
        "# Run this to ensure TensorFlow 2.x is used\n",
        "try:\n",
        "  # %tensorflow_version only exists in Colab.\n",
        "  %tensorflow_version 2.x\n",
        "except Exception:\n",
        "  pass"
      ],
      "execution_count": 1,
      "outputs": []
    },
    {
      "cell_type": "code",
      "metadata": {
        "id": "m5h1erQDdnvY",
        "colab_type": "code",
        "colab": {}
      },
      "source": [
        "import json\n",
        "import tensorflow as tf\n",
        "import pandas as pd\n",
        "\n",
        "\n",
        "from tensorflow.keras.preprocessing.text import Tokenizer\n",
        "from tensorflow.keras.preprocessing.sequence import pad_sequences"
      ],
      "execution_count": 7,
      "outputs": []
    },
    {
      "cell_type": "code",
      "metadata": {
        "id": "VftwaI4Rdo60",
        "colab_type": "code",
        "colab": {}
      },
      "source": [
        "\n"
      ],
      "execution_count": 3,
      "outputs": []
    },
    {
      "cell_type": "code",
      "metadata": {
        "id": "-N4CzwGMd6CG",
        "colab_type": "code",
        "colab": {
          "base_uri": "https://localhost:8080/",
          "height": 121
        },
        "outputId": "055e25b8-75b3-4824-8a1e-090a6d2c7554"
      },
      "source": [
        "from google.colab import drive\n",
        "drive.mount('/content/drive')"
      ],
      "execution_count": 5,
      "outputs": [
        {
          "output_type": "stream",
          "text": [
            "Go to this URL in a browser: https://accounts.google.com/o/oauth2/auth?client_id=947318989803-6bn6qk8qdgf4n4g3pfee6491hc0brc4i.apps.googleusercontent.com&redirect_uri=urn%3aietf%3awg%3aoauth%3a2.0%3aoob&response_type=code&scope=email%20https%3a%2f%2fwww.googleapis.com%2fauth%2fdocs.test%20https%3a%2f%2fwww.googleapis.com%2fauth%2fdrive%20https%3a%2f%2fwww.googleapis.com%2fauth%2fdrive.photos.readonly%20https%3a%2f%2fwww.googleapis.com%2fauth%2fpeopleapi.readonly\n",
            "\n",
            "Enter your authorization code:\n",
            "··········\n",
            "Mounted at /content/drive\n"
          ],
          "name": "stdout"
        }
      ]
    },
    {
      "cell_type": "code",
      "metadata": {
        "id": "Xb-m2e-wfUgg",
        "colab_type": "code",
        "colab": {}
      },
      "source": [
        "df = pd.read_csv('/content/drive/My Drive/Test.csv')"
      ],
      "execution_count": 8,
      "outputs": []
    },
    {
      "cell_type": "code",
      "metadata": {
        "id": "D3_YmiIMfd5W",
        "colab_type": "code",
        "colab": {
          "base_uri": "https://localhost:8080/",
          "height": 199
        },
        "outputId": "6cea2485-9142-44bb-8402-78b4dd2a843e"
      },
      "source": [
        "df.head()"
      ],
      "execution_count": 9,
      "outputs": [
        {
          "output_type": "execute_result",
          "data": {
            "text/html": [
              "<div>\n",
              "<style scoped>\n",
              "    .dataframe tbody tr th:only-of-type {\n",
              "        vertical-align: middle;\n",
              "    }\n",
              "\n",
              "    .dataframe tbody tr th {\n",
              "        vertical-align: top;\n",
              "    }\n",
              "\n",
              "    .dataframe thead th {\n",
              "        text-align: right;\n",
              "    }\n",
              "</style>\n",
              "<table border=\"1\" class=\"dataframe\">\n",
              "  <thead>\n",
              "    <tr style=\"text-align: right;\">\n",
              "      <th></th>\n",
              "      <th>text</th>\n",
              "      <th>label</th>\n",
              "    </tr>\n",
              "  </thead>\n",
              "  <tbody>\n",
              "    <tr>\n",
              "      <th>0</th>\n",
              "      <td>I always wrote this series off as being a comp...</td>\n",
              "      <td>0</td>\n",
              "    </tr>\n",
              "    <tr>\n",
              "      <th>1</th>\n",
              "      <td>1st watched 12/7/2002 - 3 out of 10(Dir-Steve ...</td>\n",
              "      <td>0</td>\n",
              "    </tr>\n",
              "    <tr>\n",
              "      <th>2</th>\n",
              "      <td>This movie was so poorly written and directed ...</td>\n",
              "      <td>0</td>\n",
              "    </tr>\n",
              "    <tr>\n",
              "      <th>3</th>\n",
              "      <td>The most interesting thing about Miryang (Secr...</td>\n",
              "      <td>1</td>\n",
              "    </tr>\n",
              "    <tr>\n",
              "      <th>4</th>\n",
              "      <td>when i first read about \"berlin am meer\" i did...</td>\n",
              "      <td>0</td>\n",
              "    </tr>\n",
              "  </tbody>\n",
              "</table>\n",
              "</div>"
            ],
            "text/plain": [
              "                                                text  label\n",
              "0  I always wrote this series off as being a comp...      0\n",
              "1  1st watched 12/7/2002 - 3 out of 10(Dir-Steve ...      0\n",
              "2  This movie was so poorly written and directed ...      0\n",
              "3  The most interesting thing about Miryang (Secr...      1\n",
              "4  when i first read about \"berlin am meer\" i did...      0"
            ]
          },
          "metadata": {
            "tags": []
          },
          "execution_count": 9
        }
      ]
    },
    {
      "cell_type": "code",
      "metadata": {
        "id": "O327ahUHfkIH",
        "colab_type": "code",
        "colab": {
          "base_uri": "https://localhost:8080/",
          "height": 33
        },
        "outputId": "df27370e-e490-47a3-eecd-eb6cade2ba2a"
      },
      "source": [
        "df.shape"
      ],
      "execution_count": 10,
      "outputs": [
        {
          "output_type": "execute_result",
          "data": {
            "text/plain": [
              "(5000, 2)"
            ]
          },
          "metadata": {
            "tags": []
          },
          "execution_count": 10
        }
      ]
    },
    {
      "cell_type": "code",
      "metadata": {
        "id": "oLsdOUlkg3nR",
        "colab_type": "code",
        "colab": {
          "base_uri": "https://localhost:8080/",
          "height": 218
        },
        "outputId": "283d8c89-4de5-4636-9a91-653350cee04f"
      },
      "source": [
        "df['text']"
      ],
      "execution_count": 12,
      "outputs": [
        {
          "output_type": "execute_result",
          "data": {
            "text/plain": [
              "0       I always wrote this series off as being a comp...\n",
              "1       1st watched 12/7/2002 - 3 out of 10(Dir-Steve ...\n",
              "2       This movie was so poorly written and directed ...\n",
              "3       The most interesting thing about Miryang (Secr...\n",
              "4       when i first read about \"berlin am meer\" i did...\n",
              "                              ...                        \n",
              "4995    This is the kind of picture John Lassiter woul...\n",
              "4996    A MUST SEE! I saw WHIPPED at a press screening...\n",
              "4997    NBC should be ashamed. I wouldn't allow my chi...\n",
              "4998    This movie is a clumsy mishmash of various gho...\n",
              "4999    Formula movie about the illegitimate son of a ...\n",
              "Name: text, Length: 5000, dtype: object"
            ]
          },
          "metadata": {
            "tags": []
          },
          "execution_count": 12
        }
      ]
    },
    {
      "cell_type": "code",
      "metadata": {
        "id": "jwwam-uTfti7",
        "colab_type": "code",
        "colab": {}
      },
      "source": [
        "vocab_size = 4000\n",
        "embedding_dim = 16\n",
        "max_length = 90\n",
        "trunc_type='post'\n",
        "padding_type='post'\n",
        "oov_tok = \"<OOV>\"\n",
        "training_size = 4000"
      ],
      "execution_count": 17,
      "outputs": []
    },
    {
      "cell_type": "code",
      "metadata": {
        "id": "QW_IgQbJhTEE",
        "colab_type": "code",
        "colab": {}
      },
      "source": [
        "training_sentences = df.iloc[:training_size]['text']"
      ],
      "execution_count": 18,
      "outputs": []
    },
    {
      "cell_type": "code",
      "metadata": {
        "id": "yoXrJhQNhj_A",
        "colab_type": "code",
        "colab": {}
      },
      "source": [
        "training_sentences"
      ],
      "execution_count": null,
      "outputs": []
    },
    {
      "cell_type": "code",
      "metadata": {
        "id": "5bJBr_twh-VK",
        "colab_type": "code",
        "colab": {}
      },
      "source": [
        "testing_sentences = df.iloc[training_size:]['text']"
      ],
      "execution_count": 22,
      "outputs": []
    },
    {
      "cell_type": "code",
      "metadata": {
        "id": "cndqU8z5hnRz",
        "colab_type": "code",
        "colab": {}
      },
      "source": [
        "testing_sentences"
      ],
      "execution_count": null,
      "outputs": []
    },
    {
      "cell_type": "code",
      "metadata": {
        "id": "Qt7cdwkXiIEd",
        "colab_type": "code",
        "colab": {}
      },
      "source": [
        "training_labels = df.iloc[:training_size]['label']\n"
      ],
      "execution_count": 24,
      "outputs": []
    },
    {
      "cell_type": "code",
      "metadata": {
        "id": "0Th-NLA2iYZJ",
        "colab_type": "code",
        "colab": {}
      },
      "source": [
        "training_labels"
      ],
      "execution_count": null,
      "outputs": []
    },
    {
      "cell_type": "code",
      "metadata": {
        "id": "1Lk6OuSuiaVj",
        "colab_type": "code",
        "colab": {}
      },
      "source": [
        "testing_labels = df.iloc[training_size:]['label']"
      ],
      "execution_count": 26,
      "outputs": []
    },
    {
      "cell_type": "code",
      "metadata": {
        "id": "G8mt9dQZil1x",
        "colab_type": "code",
        "colab": {}
      },
      "source": [
        "testing_labels"
      ],
      "execution_count": null,
      "outputs": []
    },
    {
      "cell_type": "code",
      "metadata": {
        "id": "PVxHq2Yxl8Ce",
        "colab_type": "code",
        "colab": {}
      },
      "source": [
        ""
      ],
      "execution_count": null,
      "outputs": []
    },
    {
      "cell_type": "code",
      "metadata": {
        "id": "JgKgAmTXmHHH",
        "colab_type": "code",
        "colab": {}
      },
      "source": [
        "tokenizer = Tokenizer(num_words=vocab_size, oov_token=oov_tok)\n",
        "tokenizer.fit_on_texts(training_sentences)\n",
        "training_sentences_sequences = tokenizer.texts_to_sequences(training_sentences)\n",
        "training_sentences_padded = pad_sequences(training_sentences_sequences)"
      ],
      "execution_count": 29,
      "outputs": []
    },
    {
      "cell_type": "code",
      "metadata": {
        "id": "nqCHYwtFnXH1",
        "colab_type": "code",
        "colab": {}
      },
      "source": [
        "testing_sentences_sequences = tokenizer.texts_to_sequences(testing_sentences)\n",
        "testing_sentences_padded = pad_sequences(testing_sentences_sequences)"
      ],
      "execution_count": 30,
      "outputs": []
    },
    {
      "cell_type": "code",
      "metadata": {
        "id": "bPekQ-Ubnvg_",
        "colab_type": "code",
        "colab": {
          "base_uri": "https://localhost:8080/",
          "height": 285
        },
        "outputId": "d1acd7ac-71b1-43cd-defb-8ea7094bf0a5"
      },
      "source": [
        "model = tf.keras.Sequential([\n",
        "                             tf.keras.layers.Embedding(vocab_size, embedding_dim, input_length=max_length),\n",
        "                             tf.keras.layers.GlobalAveragePooling1D(),\n",
        "                             tf.keras.layers.Dense(24, activation='relu'),\n",
        "                             tf.keras.layers.Dense(1, activation='sigmoid')\n",
        "])\n",
        "model.summary()"
      ],
      "execution_count": 32,
      "outputs": [
        {
          "output_type": "stream",
          "text": [
            "Model: \"sequential\"\n",
            "_________________________________________________________________\n",
            "Layer (type)                 Output Shape              Param #   \n",
            "=================================================================\n",
            "embedding (Embedding)        (None, 90, 16)            64000     \n",
            "_________________________________________________________________\n",
            "global_average_pooling1d (Gl (None, 16)                0         \n",
            "_________________________________________________________________\n",
            "dense (Dense)                (None, 24)                408       \n",
            "_________________________________________________________________\n",
            "dense_1 (Dense)              (None, 1)                 25        \n",
            "=================================================================\n",
            "Total params: 64,433\n",
            "Trainable params: 64,433\n",
            "Non-trainable params: 0\n",
            "_________________________________________________________________\n"
          ],
          "name": "stdout"
        }
      ]
    },
    {
      "cell_type": "code",
      "metadata": {
        "id": "jnzMT-IDoel5",
        "colab_type": "code",
        "colab": {}
      },
      "source": [
        "model.compile(loss='binary_crossentropy', optimizer='adam', metrics=['accuracy'])\n",
        "num_epochs = 30 \n"
      ],
      "execution_count": 33,
      "outputs": []
    },
    {
      "cell_type": "code",
      "metadata": {
        "id": "E5aFo5iUuWb4",
        "colab_type": "code",
        "colab": {}
      },
      "source": [
        "import numpy as np\n",
        "training_padded = np.array(training_sentences_padded)\n",
        "training_labels = np.array(training_labels)\n",
        "testing_padded = np.array(testing_sentences_padded)\n",
        "testing_labels = np.array(testing_labels)"
      ],
      "execution_count": 38,
      "outputs": []
    },
    {
      "cell_type": "code",
      "metadata": {
        "id": "3dA2ywwyo9RA",
        "colab_type": "code",
        "colab": {
          "base_uri": "https://localhost:8080/",
          "height": 1000
        },
        "outputId": "b944260b-c77f-44bb-b4c2-8cc8b8358afc"
      },
      "source": [
        "history = model.fit(training_sentences_padded, training_labels, epochs=num_epochs, validation_data=(testing_sentences_padded, testing_labels), verbose=2)"
      ],
      "execution_count": 39,
      "outputs": [
        {
          "output_type": "stream",
          "text": [
            "Epoch 1/30\n",
            "125/125 - 1s - loss: 0.1259 - accuracy: 0.9605 - val_loss: 0.4135 - val_accuracy: 0.8760\n",
            "Epoch 2/30\n",
            "125/125 - 1s - loss: 0.1211 - accuracy: 0.9640 - val_loss: 0.4341 - val_accuracy: 0.8800\n",
            "Epoch 3/30\n",
            "125/125 - 1s - loss: 0.1193 - accuracy: 0.9650 - val_loss: 0.4320 - val_accuracy: 0.8750\n",
            "Epoch 4/30\n",
            "125/125 - 1s - loss: 0.1108 - accuracy: 0.9675 - val_loss: 0.4411 - val_accuracy: 0.8730\n",
            "Epoch 5/30\n",
            "125/125 - 1s - loss: 0.1044 - accuracy: 0.9697 - val_loss: 0.4536 - val_accuracy: 0.8710\n",
            "Epoch 6/30\n",
            "125/125 - 1s - loss: 0.1012 - accuracy: 0.9725 - val_loss: 0.4608 - val_accuracy: 0.8730\n",
            "Epoch 7/30\n",
            "125/125 - 1s - loss: 0.0965 - accuracy: 0.9735 - val_loss: 0.4791 - val_accuracy: 0.8700\n",
            "Epoch 8/30\n",
            "125/125 - 1s - loss: 0.0950 - accuracy: 0.9743 - val_loss: 0.4816 - val_accuracy: 0.8700\n",
            "Epoch 9/30\n",
            "125/125 - 1s - loss: 0.0876 - accuracy: 0.9755 - val_loss: 0.5015 - val_accuracy: 0.8730\n",
            "Epoch 10/30\n",
            "125/125 - 1s - loss: 0.0825 - accuracy: 0.9785 - val_loss: 0.5054 - val_accuracy: 0.8680\n",
            "Epoch 11/30\n",
            "125/125 - 1s - loss: 0.0809 - accuracy: 0.9780 - val_loss: 0.5161 - val_accuracy: 0.8700\n",
            "Epoch 12/30\n",
            "125/125 - 1s - loss: 0.0736 - accuracy: 0.9808 - val_loss: 0.5287 - val_accuracy: 0.8670\n",
            "Epoch 13/30\n",
            "125/125 - 1s - loss: 0.0706 - accuracy: 0.9833 - val_loss: 0.5408 - val_accuracy: 0.8730\n",
            "Epoch 14/30\n",
            "125/125 - 1s - loss: 0.0729 - accuracy: 0.9815 - val_loss: 0.5758 - val_accuracy: 0.8690\n",
            "Epoch 15/30\n",
            "125/125 - 1s - loss: 0.0643 - accuracy: 0.9837 - val_loss: 0.5674 - val_accuracy: 0.8690\n",
            "Epoch 16/30\n",
            "125/125 - 1s - loss: 0.0613 - accuracy: 0.9852 - val_loss: 0.5785 - val_accuracy: 0.8680\n",
            "Epoch 17/30\n",
            "125/125 - 1s - loss: 0.0558 - accuracy: 0.9885 - val_loss: 0.5917 - val_accuracy: 0.8650\n",
            "Epoch 18/30\n",
            "125/125 - 1s - loss: 0.0566 - accuracy: 0.9875 - val_loss: 0.6065 - val_accuracy: 0.8670\n",
            "Epoch 19/30\n",
            "125/125 - 1s - loss: 0.0505 - accuracy: 0.9898 - val_loss: 0.6178 - val_accuracy: 0.8640\n",
            "Epoch 20/30\n",
            "125/125 - 1s - loss: 0.0474 - accuracy: 0.9900 - val_loss: 0.6331 - val_accuracy: 0.8660\n",
            "Epoch 21/30\n",
            "125/125 - 1s - loss: 0.0447 - accuracy: 0.9910 - val_loss: 0.6474 - val_accuracy: 0.8650\n",
            "Epoch 22/30\n",
            "125/125 - 1s - loss: 0.0451 - accuracy: 0.9898 - val_loss: 0.6740 - val_accuracy: 0.8650\n",
            "Epoch 23/30\n",
            "125/125 - 1s - loss: 0.0398 - accuracy: 0.9930 - val_loss: 0.6740 - val_accuracy: 0.8630\n",
            "Epoch 24/30\n",
            "125/125 - 1s - loss: 0.0389 - accuracy: 0.9930 - val_loss: 0.6966 - val_accuracy: 0.8670\n",
            "Epoch 25/30\n",
            "125/125 - 1s - loss: 0.0358 - accuracy: 0.9935 - val_loss: 0.7067 - val_accuracy: 0.8630\n",
            "Epoch 26/30\n",
            "125/125 - 1s - loss: 0.0363 - accuracy: 0.9948 - val_loss: 0.7315 - val_accuracy: 0.8670\n",
            "Epoch 27/30\n",
            "125/125 - 1s - loss: 0.0325 - accuracy: 0.9948 - val_loss: 0.7315 - val_accuracy: 0.8660\n",
            "Epoch 28/30\n",
            "125/125 - 1s - loss: 0.0316 - accuracy: 0.9948 - val_loss: 0.7590 - val_accuracy: 0.8650\n",
            "Epoch 29/30\n",
            "125/125 - 1s - loss: 0.0299 - accuracy: 0.9952 - val_loss: 0.7715 - val_accuracy: 0.8620\n",
            "Epoch 30/30\n",
            "125/125 - 1s - loss: 0.0265 - accuracy: 0.9967 - val_loss: 0.7941 - val_accuracy: 0.8650\n"
          ],
          "name": "stdout"
        }
      ]
    },
    {
      "cell_type": "code",
      "metadata": {
        "id": "52N13JcupmEE",
        "colab_type": "code",
        "colab": {
          "base_uri": "https://localhost:8080/",
          "height": 67
        },
        "outputId": "bbb39df7-dae5-4faa-be5f-656978716444"
      },
      "source": [
        "sentence = [\n",
        "            'Sholay is a grand, maximalist revel. It''s the kind of movie that, while it may pass into the status of so many older movies more talked about than seen, it became that thing by being great.',\n",
        "            'I''m an IITian myself and hence, needless to say, was looking forward to this movie as it is based on the life in IITs. I went with my family and watched the first-day-first-show and was I pleased ? In one sentence - The best Bollywood movie ever ! If you are into movies, then this one is not to be missed unless you are the 4th idiot. I cried, I laughed and I enjoyed every moment of the 3 hours that I spent watching this gem. The songs that seemed mediocre before watching the movie, feel like perfect for the movie. They are so ideal for the situations that I just loved them. As you can understand, they could not bring the name of any IIT into the movie to avoid disputes. But trust me, whatever they have shown about the life in IITs, it''s all true. Right from suicides, cold-hearted Professors to lack of encouragement and support for talents who can really bring serious change in this world. The movie successfully depicts how once inside, your life is only about meaningless grades, go get into the race before it''s too late. Take my free advice and avoid any reviews or words from people who have already seen the movie. Don''t let anyone spoil any scene from the movie. Rush to the nearest theater and experience the phenomenon for yourself. You''ll bless me for this advice !',\n",
        "            'Now onto what I didn''t like about this film. Salman''s love actress, although beautiful, has an insignificant role in this movie. '\n",
        "]\n",
        "\n",
        "sequence = tokenizer.texts_to_sequences(sentence)\n",
        "padding = pad_sequences(sequence)\n",
        "\n",
        "print(model.predict(padding))"
      ],
      "execution_count": 42,
      "outputs": [
        {
          "output_type": "stream",
          "text": [
            "[[1.000000e+00]\n",
            " [2.065728e-08]\n",
            " [9.999970e-01]]\n"
          ],
          "name": "stdout"
        }
      ]
    },
    {
      "cell_type": "code",
      "metadata": {
        "id": "IzfCzsgXuQFD",
        "colab_type": "code",
        "colab": {}
      },
      "source": [
        ""
      ],
      "execution_count": null,
      "outputs": []
    }
  ]
}